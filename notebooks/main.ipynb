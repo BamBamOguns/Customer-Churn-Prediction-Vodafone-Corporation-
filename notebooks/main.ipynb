{
 "cells": [
  {
   "cell_type": "markdown",
   "metadata": {},
   "source": [
    "## Vodafone Customer Churn Predictor\n",
    "\n",
    "\n",
    "##### **Problem Statement:** Vodafone, a leading telecommunications provider, is struggling with customer retention in an increasingly competitive market. To maintain its market position and improve customer loyalty, Vodafone needs to understand why customers leave and predict potential churners. The company plans to leverage historical data and analytics to develop a predictive model that identifies at-risk customers and informs effective retention strategies.\n",
    "\n",
    "\n",
    "##### **Project Goal:** The goal of this project is to develop a predictive model using historical customer data and advanced analytics techniques to accurately identify customers at risk of churning. By doing so, the company aims to gain actionable insights into the factors driving customer churn using the datasets provided by the business team and implement targeted retention strategies to enhance customer loyalty and reduce churn rates.\n",
    "\n",
    "\n",
    "##### **Stakeholder:**\n",
    "- Executive Leadership\n",
    "- Business Team\n",
    "- Data Science & Analytics Team\n",
    "- Customer Service Team\n",
    "- Sales Team\n",
    "\n",
    "\n",
    "##### **Key Metrics and Success Criteria:**\n",
    "- Accuracy: The ratio of correctly predicted instances (both churn and non-churn) to the total instances.\n",
    "    - Success Criteria: An accuracy rate of at least 85% indicates the model is reliably identifying churn and non-churn customers.\n",
    "\n",
    "- Precision: The ratio of correctly predicted churn instances to the total predicted churn instances.\n",
    "    - Success Criteria: A precision rate of at least 80% ensures that most customers identified as churners are indeed at risk, minimizing false positives.\n",
    "\n",
    "- Recall: The ratio of correctly predicted churn instances to the total actual churn instances.\n",
    "    - Success Criteria: A recall rate of at least 75% indicates that the model is effectively capturing a significant portion of actual churners, minimizing false negatives.\n",
    "\n",
    "- F1 Score: The harmonic mean of precision and recall, providing a single metric that balances both.\n",
    "    - Success Criteria: An F1 score of at least 0.75 ensures a good balance between precision and recall.\n",
    "\n",
    "- Confusion Matrix: A table showing the true positives, true negatives, false positives, and false negatives.\n",
    "    - Success Criteria: The confusion matrix should show high true positives and true negatives, with minimal false positives and false negatives.\n",
    "\n",
    "- Churn Rate: The percentage of customers who leave the company over a specific period.\n",
    "    - Success Criteria: A decrease in the churn rate by at least 10% after implementing the churn prediction model.\n",
    "\n",
    "- ROC-AUC (Receiver Operating Characteristic - Area Under the Curve): Measures the model's ability to distinguish between churn and non-churn customers.\n",
    "    - Success Criteria: An ROC-AUC score of at least 0.8 indicates strong discriminatory power.\n",
    "\n",
    "\n",
    "##### **Features of the Dataset:**\n",
    "1. CustomerID: Unique identifier for each customer.\n",
    "2. Gender: Gender of the customer (Male/Female).\n",
    "3. Senior Citizen: Indicates if the customer is a senior citizen (1: Yes/True, 0: No/False).\n",
    "4. Partner: Indicates if the customer has a partner (Yes/No).\n",
    "5. Dependents: Indicates if the customer has dependents (Yes/No).\n",
    "6. Tenure: Number of months the customer has been with Vodafone.\n",
    "7. Phone Service: Indicates if the customer has a phone service (Yes/No).\n",
    "8. Multiple Lines: Indicates if the customer has multiple lines (Yes/No/No phone service).\n",
    "9. Internet Service: Type of internet service the customer has (DSL/Fiber optic/No).\n",
    "10. Online Security: Indicates if the customer has online security service (Yes/No/No internet service).\n",
    "11. Online Backup: Indicates if the customer has online backup service (Yes/No/No internet service).\n",
    "12. Device Protection: Indicates if the customer has device protection service (Yes/No/No internet service).\n",
    "13. Tech Support: Indicates if the customer has tech support service (Yes/No/No internet service).\n",
    "14. Streaming TV: Indicates if the customer has streaming TV service (Yes/No/No internet service).\n",
    "15. Streaming Movies: Indicates if the customer has streaming movies service (Yes/No/No internet service).\n",
    "16. Contract: Type of contract the customer has (Month-to-month/One year/Two year).\n",
    "17. Paperless Billing: Indicates if the customer has paperless billing (Yes/No).\n",
    "18. Payment Method: Customer's payment method (Electronic check/Mailed check/Bank transfer (automatic)/Credit card (automatic)).\n",
    "19. Monthly Charges: The amount charged to the customer monthly.\n",
    "20. Total Charges: The total amount charged to the customer.\n",
    "21. Churn: Indicates if the customer has churned (Yes/No).\n",
    "\n",
    "\n",
    "##### **Null Hypothesis(H0):** There is no significant relationship between customer churn and contract type, tenure, and monthly charges.\n",
    "\n",
    "##### **Alternative Hypothesis(H1):** There is a significant relationship between customer churn and contract type, tenure, and monthly charges.\n",
    "\n",
    "\n",
    "##### **Analytical Questions:**\n",
    "1. How does the distribution of contract types (month-to-month, one year, two years) affect the overall churn rate?\n",
    "2. Is there a pattern in churn rate based on customer tenure? Are there specific points in the customer lifecycle where churn is more likely?\n",
    "3. Do customers with higher monthly charges tend to churn more often? Are there any specific thresholds where churn increases significantly?\n",
    "4. How do different combinations of additional services (online security, online backup, device protection, tech support) impact churn rate?\n",
    "5. Does the preferred payment method influence churn rate? Are certain payment methods associated with higher churn?\n",
    "6. Are there demographic factors (like senior citizen status, having a partner, or having dependents) that correlate with higher churn rates?\n"
   ]
  },
  {
   "cell_type": "markdown",
   "metadata": {},
   "source": [
    "### `Business Understanding`"
   ]
  },
  {
   "cell_type": "markdown",
   "metadata": {},
   "source": [
    "### `Data Understanding`"
   ]
  },
  {
   "cell_type": "markdown",
   "metadata": {},
   "source": [
    "### `Data Preparation`"
   ]
  },
  {
   "cell_type": "markdown",
   "metadata": {},
   "source": [
    "### `Modeling & Evaluation`"
   ]
  },
  {
   "cell_type": "markdown",
   "metadata": {},
   "source": [
    "### `Deployment`\n",
    "\n",
    "##### Not applicable in this project"
   ]
  },
  {
   "cell_type": "code",
   "execution_count": null,
   "metadata": {},
   "outputs": [],
   "source": []
  }
 ],
 "metadata": {
  "language_info": {
   "name": "python"
  }
 },
 "nbformat": 4,
 "nbformat_minor": 2
}
